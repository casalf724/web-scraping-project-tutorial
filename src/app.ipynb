{
 "cells": [
  {
   "cell_type": "markdown",
   "metadata": {},
   "source": [
    "### Import Libraries"
   ]
  },
  {
   "cell_type": "code",
   "execution_count": 1,
   "metadata": {},
   "outputs": [],
   "source": [
    "import os\n",
    "import pandas as pd\n",
    "import requests\n",
    "import re\n",
    "from sqlalchemy import create_engine\n",
    "from dotenv import load_dotenv\n",
    "from bs4 import BeautifulSoup\n"
   ]
  },
  {
   "cell_type": "markdown",
   "metadata": {},
   "source": [
    "# load the .env file variables"
   ]
  },
  {
   "cell_type": "code",
   "execution_count": 2,
   "metadata": {},
   "outputs": [
    {
     "data": {
      "text/plain": [
       "True"
      ]
     },
     "execution_count": 2,
     "metadata": {},
     "output_type": "execute_result"
    }
   ],
   "source": [
    "load_dotenv()"
   ]
  },
  {
   "cell_type": "code",
   "execution_count": 3,
   "metadata": {},
   "outputs": [
    {
     "name": "stdout",
     "output_type": "stream",
     "text": [
      "200\n"
     ]
    }
   ],
   "source": [
    "#create Web page \n",
    "url = \"https://api.scrapingdog.com/scrape?api_key=657d00aef70c6975e9a97da0&url=https://www.macrotrends.net/stocks/charts/TSLA/tesla/revenue&dynamic=false\"\n",
    "response = requests.get(url)\n",
    "print(response.status_code)"
   ]
  },
  {
   "cell_type": "code",
   "execution_count": 4,
   "metadata": {},
   "outputs": [],
   "source": [
    "#tranform HTML\n",
    "# If the request has been executed correctly (code 200), then the HTML content of the page has been downloaded\n",
    "if response:\n",
    "    # We transform the flat HTML into real HTML (structured and nested, tree-like)\n",
    "    soup = BeautifulSoup(response.content, 'html.parser')\n",
    "    soup"
   ]
  },
  {
   "cell_type": "code",
   "execution_count": 6,
   "metadata": {},
   "outputs": [
    {
     "name": "stdout",
     "output_type": "stream",
     "text": [
      "{'2023-09-30': '23350', '2023-06-30': '24927', '2023-03-31': '23329', '2022-12-31': '24318', '2022-09-30': '21454', '2022-06-30': '16934', '2022-03-31': '18756', '2021-12-31': '17719', '2021-09-30': '13757', '2021-06-30': '11958', '2021-03-31': '10389', '2020-12-31': '10744', '2020-09-30': '8771', '2020-06-30': '6036', '2020-03-31': '5985', '2019-12-31': '7384', '2019-09-30': '6303', '2019-06-30': '6350', '2019-03-31': '4541', '2018-12-31': '7226', '2018-09-30': '6824', '2018-06-30': '4002', '2018-03-31': '3409', '2017-12-31': '3288', '2017-09-30': '2985', '2017-06-30': '2790', '2017-03-31': '2696', '2016-12-31': '2285', '2016-09-30': '2298', '2016-06-30': '1270', '2016-03-31': '1147', '2015-12-31': '1214', '2015-09-30': '937', '2015-06-30': '955', '2015-03-31': '940', '2014-12-31': '957', '2014-09-30': '852', '2014-06-30': '769', '2014-03-31': '621', '2013-12-31': '615', '2013-09-30': '431', '2013-06-30': '405', '2013-03-31': '562', '2012-12-31': '306', '2012-09-30': '50', '2012-06-30': '27', '2012-03-31': '30', '2011-12-31': '39', '2011-09-30': '58', '2011-06-30': '58', '2011-03-31': '49', '2010-12-31': '36', '2010-09-30': '31', '2010-06-30': '28', '2010-03-31': '21', '2009-12-31': '', '2009-09-30': '46', '2009-06-30': '27'}\n"
     ]
    }
   ],
   "source": [
    "# Finding all table elements\n",
    "tables = soup.find_all('table')\n",
    "\n",
    "# Check if there are at least two tables\n",
    "if len(tables) >= 2:\n",
    "    # Selecting the second table\n",
    "    second_table = tables[1]\n",
    "\n",
    "    # Extracting and storing data from the second table\n",
    "    web_content = {}\n",
    "    for row in second_table.find_all('tr'):\n",
    "        columns = row.find_all('td')\n",
    "        if len(columns) >= 2:\n",
    "            date = columns[0].get_text().strip()\n",
    "            revenue = columns[1].get_text().strip().replace('$', '').replace(',', '')\n",
    "            web_content[date] = revenue\n",
    "\n",
    "    print(web_content)\n",
    "else:\n",
    "    print(\"There are not enough tables in the provided HTML\")"
   ]
  },
  {
   "cell_type": "code",
   "execution_count": null,
   "metadata": {},
   "outputs": [],
   "source": []
  }
 ],
 "metadata": {
  "kernelspec": {
   "display_name": "Python 3",
   "language": "python",
   "name": "python3"
  },
  "language_info": {
   "codemirror_mode": {
    "name": "ipython",
    "version": 3
   },
   "file_extension": ".py",
   "mimetype": "text/x-python",
   "name": "python",
   "nbconvert_exporter": "python",
   "pygments_lexer": "ipython3",
   "version": "3.11.4"
  }
 },
 "nbformat": 4,
 "nbformat_minor": 2
}
